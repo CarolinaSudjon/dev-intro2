{
 "cells": [
  {
   "cell_type": "markdown",
   "id": "9ee9af17-eaaf-463f-8d7f-7327b9f2c5a8",
   "metadata": {},
   "source": [
    "# Introduction to Software Development (Python)\n",
    "See the [Dev Intro Repo](https://github.com/egalli64/dev-intro) on GitHub\n",
    "---\n",
    "## Print a message"
   ]
  },
  {
   "cell_type": "code",
   "execution_count": null,
   "id": "85a8a971-11be-45f0-b61a-e352840942d8",
   "metadata": {},
   "outputs": [],
   "source": [
    "print(\"Hello\")"
   ]
  },
  {
   "cell_type": "code",
   "execution_count": null,
   "id": "e092fa31-204b-431c-9a34-8ca274877027",
   "metadata": {},
   "outputs": [],
   "source": [
    "message = \"Ciao\"\n",
    "print(message)"
   ]
  },
  {
   "cell_type": "code",
   "execution_count": null,
   "id": "09fb5a77-55ea-4043-a77d-eba7452c0de4",
   "metadata": {},
   "outputs": [],
   "source": []
  }
 ],
 "metadata": {
  "kernelspec": {
   "display_name": "Python 3 (ipykernel)",
   "language": "python",
   "name": "python3"
  },
  "language_info": {
   "codemirror_mode": {
    "name": "ipython",
    "version": 3
   },
   "file_extension": ".py",
   "mimetype": "text/x-python",
   "name": "python",
   "nbconvert_exporter": "python",
   "pygments_lexer": "ipython3",
   "version": "3.12.0"
  }
 },
 "nbformat": 4,
 "nbformat_minor": 5
}
