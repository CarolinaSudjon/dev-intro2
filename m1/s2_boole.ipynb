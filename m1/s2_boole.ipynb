{
 "cells": [
  {
   "cell_type": "markdown",
   "id": "6d8ecb6e-62bd-4425-ae43-a7dd2874b552",
   "metadata": {},
   "source": [
    "# Introduction to Software Development (Python)\n",
    "See the [Dev Intro Repo](https://github.com/egalli64/dev-intro) on GitHub\n",
    "---\n",
    "## Boolean variables and operators"
   ]
  },
  {
   "cell_type": "code",
   "execution_count": null,
   "id": "53621e6d-0b79-415a-967f-55cb45b2272a",
   "metadata": {},
   "outputs": [],
   "source": [
    "# AND\n",
    "conjunction = True and False\n",
    "print(\"True and False is\", conjunction)"
   ]
  },
  {
   "cell_type": "code",
   "execution_count": null,
   "id": "37208764-a22f-4951-aff2-63aee6c1d9ca",
   "metadata": {},
   "outputs": [],
   "source": [
    "# OR\n",
    "inclusiveDisjunction = True or False\n",
    "print(\"True or False is\", inclusiveDisjunction)"
   ]
  },
  {
   "cell_type": "code",
   "execution_count": null,
   "id": "b8c05dff-5932-46a1-8e2e-d9542331f7fb",
   "metadata": {},
   "outputs": [],
   "source": [
    "# NOT\n",
    "print(\"Not true is\", not True)"
   ]
  },
  {
   "cell_type": "code",
   "execution_count": null,
   "id": "bd3fdc4d",
   "metadata": {},
   "outputs": [],
   "source": [
    "# XOR - ^ operator\n",
    "exclusiveDisjunction = True ^ True\n",
    "print(\"True xor True is\", exclusiveDisjunction)"
   ]
  },
  {
   "cell_type": "code",
   "execution_count": null,
   "id": "e8bea240-7f7b-41e4-84c2-27fa81d76dfe",
   "metadata": {},
   "outputs": [],
   "source": [
    "# XOR - in a more pythonic way, != operator\n",
    "exclusiveDisjunction = False != True\n",
    "print(\"False xor True is\", exclusiveDisjunction)"
   ]
  }
 ],
 "metadata": {
  "kernelspec": {
   "display_name": "Python 3 (ipykernel)",
   "language": "python",
   "name": "python3"
  },
  "language_info": {
   "codemirror_mode": {
    "name": "ipython",
    "version": 3
   },
   "file_extension": ".py",
   "mimetype": "text/x-python",
   "name": "python",
   "nbconvert_exporter": "python",
   "pygments_lexer": "ipython3",
   "version": "3.12.0"
  }
 },
 "nbformat": 4,
 "nbformat_minor": 5
}
